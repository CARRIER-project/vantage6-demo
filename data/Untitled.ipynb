{
 "cells": [
  {
   "cell_type": "code",
   "execution_count": 4,
   "id": "4e068ec6-f4c6-4e1a-b700-61157df29aab",
   "metadata": {
    "collapsed": true,
    "jupyter": {
     "outputs_hidden": true
    },
    "tags": []
   },
   "outputs": [
    {
     "name": "stdout",
     "output_type": "stream",
     "text": [
      "Collecting vantage6-client==3.3.2\n",
      "  Using cached vantage6_client-3.3.2-py3-none-any.whl (36 kB)\n",
      "Requirement already satisfied: pyfiglet==0.8.post1 in /home/dsmits/.local/lib/python3.10/site-packages (from vantage6-client==3.3.2) (0.8.post1)\n",
      "Collecting vantage6-common==3.3.2\n",
      "  Using cached vantage6_common-3.3.2-py3-none-any.whl (19 kB)\n",
      "Collecting SPARQLWrapper==1.8.5\n",
      "  Using cached SPARQLWrapper-1.8.5-py3-none-any.whl (26 kB)\n",
      "Collecting cryptography==3.3.2\n",
      "  Using cached cryptography-3.3.2-cp36-abi3-manylinux2010_x86_64.whl (2.6 MB)\n",
      "Collecting PyJWT==2.4.0\n",
      "  Using cached PyJWT-2.4.0-py3-none-any.whl (18 kB)\n",
      "Collecting requests==2.25.1\n",
      "  Using cached requests-2.25.1-py2.py3-none-any.whl (61 kB)\n",
      "Requirement already satisfied: pandas in /home/dsmits/miniconda3/envs/vantage6-surf-demo/lib/python3.10/site-packages (from vantage6-client==3.3.2) (1.5.3)\n",
      "Requirement already satisfied: six>=1.4.1 in /home/dsmits/miniconda3/envs/vantage6-surf-demo/lib/python3.10/site-packages (from cryptography==3.3.2->vantage6-client==3.3.2) (1.16.0)\n",
      "Requirement already satisfied: cffi>=1.12 in /home/dsmits/.local/lib/python3.10/site-packages (from cryptography==3.3.2->vantage6-client==3.3.2) (1.15.1)\n",
      "Requirement already satisfied: urllib3<1.27,>=1.21.1 in /home/dsmits/.local/lib/python3.10/site-packages (from requests==2.25.1->vantage6-client==3.3.2) (1.26.14)\n",
      "Collecting idna<3,>=2.5\n",
      "  Using cached idna-2.10-py2.py3-none-any.whl (58 kB)\n",
      "Requirement already satisfied: certifi>=2017.4.17 in /home/dsmits/.local/lib/python3.10/site-packages (from requests==2.25.1->vantage6-client==3.3.2) (2022.12.7)\n",
      "Collecting chardet<5,>=3.0.2\n",
      "  Using cached chardet-4.0.0-py2.py3-none-any.whl (178 kB)\n",
      "Requirement already satisfied: rdflib>=4.0 in /home/dsmits/.local/lib/python3.10/site-packages (from SPARQLWrapper==1.8.5->vantage6-client==3.3.2) (6.2.0)\n",
      "Collecting schema==0.7.1\n",
      "  Using cached schema-0.7.1-py2.py3-none-any.whl (16 kB)\n",
      "Collecting docker==4.2.0\n",
      "  Using cached docker-4.2.0-py2.py3-none-any.whl (143 kB)\n",
      "Collecting click==8.0.3\n",
      "  Using cached click-8.0.3-py3-none-any.whl (97 kB)\n",
      "Collecting colorama==0.4.3\n",
      "  Using cached colorama-0.4.3-py2.py3-none-any.whl (15 kB)\n",
      "Collecting appdirs==1.4.3\n",
      "  Using cached appdirs-1.4.3-py2.py3-none-any.whl (12 kB)\n",
      "Collecting PyYAML==5.4\n",
      "  Using cached PyYAML-5.4-cp310-cp310-linux_x86_64.whl\n",
      "Collecting python-dateutil==2.8.1\n",
      "  Using cached python_dateutil-2.8.1-py2.py3-none-any.whl (227 kB)\n",
      "Requirement already satisfied: termcolor==1.1.0 in /home/dsmits/.local/lib/python3.10/site-packages (from vantage6-common==3.3.2->vantage6-client==3.3.2) (1.1.0)\n",
      "Requirement already satisfied: websocket-client>=0.32.0 in /home/dsmits/.local/lib/python3.10/site-packages (from docker==4.2.0->vantage6-common==3.3.2->vantage6-client==3.3.2) (1.5.1)\n",
      "Requirement already satisfied: contextlib2==0.5.5 in /home/dsmits/.local/lib/python3.10/site-packages (from schema==0.7.1->vantage6-common==3.3.2->vantage6-client==3.3.2) (0.5.5)\n",
      "Requirement already satisfied: pytz>=2020.1 in /home/dsmits/miniconda3/envs/vantage6-surf-demo/lib/python3.10/site-packages (from pandas->vantage6-client==3.3.2) (2022.7)\n",
      "Requirement already satisfied: numpy>=1.21.0 in /home/dsmits/miniconda3/envs/vantage6-surf-demo/lib/python3.10/site-packages (from pandas->vantage6-client==3.3.2) (1.24.2)\n",
      "Requirement already satisfied: pycparser in /home/dsmits/.local/lib/python3.10/site-packages (from cffi>=1.12->cryptography==3.3.2->vantage6-client==3.3.2) (2.21)\n",
      "Requirement already satisfied: setuptools in /home/dsmits/miniconda3/envs/vantage6-surf-demo/lib/python3.10/site-packages (from rdflib>=4.0->SPARQLWrapper==1.8.5->vantage6-client==3.3.2) (66.0.0)\n",
      "Requirement already satisfied: isodate in /home/dsmits/.local/lib/python3.10/site-packages (from rdflib>=4.0->SPARQLWrapper==1.8.5->vantage6-client==3.3.2) (0.6.1)\n",
      "Requirement already satisfied: pyparsing in /home/dsmits/miniconda3/envs/vantage6-surf-demo/lib/python3.10/site-packages (from rdflib>=4.0->SPARQLWrapper==1.8.5->vantage6-client==3.3.2) (3.0.9)\n",
      "Installing collected packages: appdirs, schema, PyYAML, python-dateutil, PyJWT, idna, colorama, click, chardet, requests, cryptography, SPARQLWrapper, docker, vantage6-common, vantage6-client\n",
      "  Attempting uninstall: appdirs\n",
      "    Found existing installation: appdirs 1.4.4\n",
      "    Uninstalling appdirs-1.4.4:\n",
      "      Successfully uninstalled appdirs-1.4.4\n",
      "  Attempting uninstall: schema\n",
      "    Found existing installation: schema 0.7.5\n",
      "    Uninstalling schema-0.7.5:\n",
      "      Successfully uninstalled schema-0.7.5\n",
      "  Attempting uninstall: PyYAML\n",
      "    Found existing installation: PyYAML 6.0\n",
      "    Uninstalling PyYAML-6.0:\n",
      "      Successfully uninstalled PyYAML-6.0\n",
      "  Attempting uninstall: python-dateutil\n",
      "    Found existing installation: python-dateutil 2.8.2\n",
      "    Uninstalling python-dateutil-2.8.2:\n",
      "      Successfully uninstalled python-dateutil-2.8.2\n",
      "  Attempting uninstall: PyJWT\n",
      "    Found existing installation: PyJWT 2.6.0\n",
      "    Uninstalling PyJWT-2.6.0:\n",
      "      Successfully uninstalled PyJWT-2.6.0\n",
      "  Attempting uninstall: idna\n",
      "    Found existing installation: idna 3.4\n",
      "    Uninstalling idna-3.4:\n",
      "      Successfully uninstalled idna-3.4\n",
      "  Attempting uninstall: colorama\n",
      "    Found existing installation: colorama 0.4.6\n",
      "    Uninstalling colorama-0.4.6:\n",
      "      Successfully uninstalled colorama-0.4.6\n",
      "  Attempting uninstall: click\n",
      "    Found existing installation: click 8.1.3\n",
      "    Uninstalling click-8.1.3:\n",
      "      Successfully uninstalled click-8.1.3\n",
      "  Attempting uninstall: requests\n",
      "    Found existing installation: requests 2.28.2\n",
      "    Uninstalling requests-2.28.2:\n",
      "      Successfully uninstalled requests-2.28.2\n",
      "  Attempting uninstall: cryptography\n",
      "    Found existing installation: cryptography 39.0.1\n",
      "    Uninstalling cryptography-39.0.1:\n",
      "      Successfully uninstalled cryptography-39.0.1\n",
      "  Attempting uninstall: SPARQLWrapper\n",
      "    Found existing installation: SPARQLWrapper 2.0.0\n",
      "    Uninstalling SPARQLWrapper-2.0.0:\n",
      "      Successfully uninstalled SPARQLWrapper-2.0.0\n",
      "  Attempting uninstall: docker\n",
      "    Found existing installation: docker 6.0.1\n",
      "    Uninstalling docker-6.0.1:\n",
      "      Successfully uninstalled docker-6.0.1\n",
      "  Attempting uninstall: vantage6-common\n",
      "    Found existing installation: vantage6-common 3.8.2\n",
      "    Uninstalling vantage6-common-3.8.2:\n",
      "      Successfully uninstalled vantage6-common-3.8.2\n",
      "\u001b[31mERROR: pip's dependency resolver does not currently take into account all the packages that are installed. This behaviour is the source of the following dependency conflicts.\n",
      "jupyterlab-server 2.19.0 requires requests>=2.28, but you have requests 2.25.1 which is incompatible.\n",
      "jupyter-client 8.0.3 requires python-dateutil>=2.8.2, but you have python-dateutil 2.8.1 which is incompatible.\n",
      "pyopenssl 23.0.0 requires cryptography<40,>=38.0.0, but you have cryptography 3.3.2 which is incompatible.\u001b[0m\u001b[31m\n",
      "\u001b[0mSuccessfully installed PyJWT-2.4.0 PyYAML-5.4 SPARQLWrapper-1.8.5 appdirs-1.4.3 chardet-4.0.0 click-8.0.3 colorama-0.4.3 cryptography-39.0.1 docker-4.2.0 idna-3.4 python-dateutil-2.8.2 requests-2.28.1 schema-0.7.1 vantage6-client-3.3.2 vantage6-common-3.3.2\n",
      "Note: you may need to restart the kernel to use updated packages.\n"
     ]
    }
   ],
   "source": [
    "%pip install vantage6-client==3.3.2"
   ]
  },
  {
   "cell_type": "code",
   "execution_count": 5,
   "id": "03afd3d4-4d44-4e6e-b910-7d327fc58bcf",
   "metadata": {
    "tags": []
   },
   "outputs": [],
   "source": [
    "from vantage6.client import Client"
   ]
  },
  {
   "cell_type": "code",
   "execution_count": 10,
   "id": "6d7e52e7-ead3-428c-9c98-5a05e751455a",
   "metadata": {
    "tags": []
   },
   "outputs": [],
   "source": [
    "host = 'https://v6server.carrier-mu.src.surf-hosted.nl'\n",
    "port = 443\n",
    "private_key = '/home/dsmits/CARRIER/private_key.pem'"
   ]
  },
  {
   "cell_type": "code",
   "execution_count": 7,
   "id": "65cb9dfe-a9bb-4fad-9a8d-768a6c8da984",
   "metadata": {
    "tags": []
   },
   "outputs": [],
   "source": [
    "client = Client(host, port)"
   ]
  },
  {
   "cell_type": "code",
   "execution_count": 8,
   "id": "9e1cf69f-c7a9-4a8d-9f95-03093356a032",
   "metadata": {
    "tags": []
   },
   "outputs": [],
   "source": [
    "client.authenticate('root', 'yD@T04NRSBdXW$Gk')"
   ]
  },
  {
   "cell_type": "code",
   "execution_count": 11,
   "id": "a270d2c0-9c5d-498b-bb49-eb02b25d86d6",
   "metadata": {
    "tags": []
   },
   "outputs": [],
   "source": [
    "client.setup_encryption(private_key)"
   ]
  },
  {
   "cell_type": "code",
   "execution_count": 14,
   "id": "3b45f618-a3a0-4065-af1c-9f609bcd4be8",
   "metadata": {
    "tags": []
   },
   "outputs": [],
   "source": [
    "# Create organizations \n",
    "names = ['demoA', 'demoB', 'demoC', 'researcher']\n",
    "organizations = []\n",
    "\n",
    "for n in names:\n",
    "    organizations.append(client.organization.create(n, '','','','','',''))"
   ]
  },
  {
   "cell_type": "code",
   "execution_count": 15,
   "id": "9af34323-d574-4b15-be6a-a5169999c14b",
   "metadata": {
    "tags": []
   },
   "outputs": [
    {
     "data": {
      "text/plain": [
       "[{'id': 9,\n",
       "  'name': 'demoA',\n",
       "  'zipcode': '',\n",
       "  'country': '',\n",
       "  'nodes': None,\n",
       "  'results': None,\n",
       "  'address2': '',\n",
       "  'collaborations': None,\n",
       "  'users': None,\n",
       "  'public_key': '',\n",
       "  'roles': [],\n",
       "  'domain': '',\n",
       "  'address1': ''},\n",
       " {'id': 10,\n",
       "  'name': 'demoB',\n",
       "  'zipcode': '',\n",
       "  'country': '',\n",
       "  'nodes': None,\n",
       "  'results': None,\n",
       "  'address2': '',\n",
       "  'collaborations': None,\n",
       "  'users': None,\n",
       "  'public_key': '',\n",
       "  'roles': [],\n",
       "  'domain': '',\n",
       "  'address1': ''},\n",
       " {'id': 11,\n",
       "  'name': 'demoC',\n",
       "  'zipcode': '',\n",
       "  'country': '',\n",
       "  'nodes': None,\n",
       "  'results': None,\n",
       "  'address2': '',\n",
       "  'collaborations': None,\n",
       "  'users': None,\n",
       "  'public_key': '',\n",
       "  'roles': [],\n",
       "  'domain': '',\n",
       "  'address1': ''},\n",
       " {'id': 12,\n",
       "  'name': 'researcher',\n",
       "  'zipcode': '',\n",
       "  'country': '',\n",
       "  'nodes': None,\n",
       "  'results': None,\n",
       "  'address2': '',\n",
       "  'collaborations': None,\n",
       "  'users': None,\n",
       "  'public_key': '',\n",
       "  'roles': [],\n",
       "  'domain': '',\n",
       "  'address1': ''}]"
      ]
     },
     "execution_count": 15,
     "metadata": {},
     "output_type": "execute_result"
    }
   ],
   "source": [
    "organizations"
   ]
  },
  {
   "cell_type": "code",
   "execution_count": 16,
   "id": "f541228d-69a2-4c42-8d71-ea4fb189f838",
   "metadata": {
    "tags": []
   },
   "outputs": [
    {
     "data": {
      "text/plain": [
       "[9, 10, 11, 12]"
      ]
     },
     "execution_count": 16,
     "metadata": {},
     "output_type": "execute_result"
    }
   ],
   "source": [
    "organization_ids = [o['id'] for o in organizations]\n",
    "organization_ids"
   ]
  },
  {
   "cell_type": "code",
   "execution_count": 17,
   "id": "4f5f47af-2344-4be2-8c96-89bba8997498",
   "metadata": {
    "tags": []
   },
   "outputs": [
    {
     "data": {
      "text/plain": [
       "{'id': 2,\n",
       " 'tasks': None,\n",
       " 'name': 'MIE',\n",
       " 'nodes': None,\n",
       " 'encrypted': False,\n",
       " 'organizations': [{'id': 9,\n",
       "   'link': '/api/organization/9',\n",
       "   'methods': ['PATCH', 'GET']},\n",
       "  {'id': 10, 'link': '/api/organization/10', 'methods': ['PATCH', 'GET']},\n",
       "  {'id': 11, 'link': '/api/organization/11', 'methods': ['PATCH', 'GET']},\n",
       "  {'id': 12, 'link': '/api/organization/12', 'methods': ['PATCH', 'GET']}]}"
      ]
     },
     "execution_count": 17,
     "metadata": {},
     "output_type": "execute_result"
    }
   ],
   "source": [
    "# Create collaboration\n",
    "collab = client.collaboration.create('MIE', organization_ids, False)\n",
    "collab"
   ]
  },
  {
   "cell_type": "code",
   "execution_count": 18,
   "id": "f146db89-6be2-4058-a99f-123fa6fb222d",
   "metadata": {
    "tags": []
   },
   "outputs": [
    {
     "data": {
      "text/plain": [
       "[{'id': 7,\n",
       "  'last_seen': None,\n",
       "  'name': 'node-demoA',\n",
       "  'collaboration': {'id': 2,\n",
       "   'link': '/api/collaboration/2',\n",
       "   'methods': ['DELETE', 'PATCH', 'GET']},\n",
       "  'type': 'node',\n",
       "  'status': None,\n",
       "  'organization': {'id': 9,\n",
       "   'link': '/api/organization/9',\n",
       "   'methods': ['PATCH', 'GET']},\n",
       "  'ip': None,\n",
       "  'api_key': '14c10aea-38e3-4094-8337-e55a98ea7850'},\n",
       " {'id': 8,\n",
       "  'last_seen': None,\n",
       "  'name': 'node-demoB',\n",
       "  'collaboration': {'id': 2,\n",
       "   'link': '/api/collaboration/2',\n",
       "   'methods': ['DELETE', 'PATCH', 'GET']},\n",
       "  'type': 'node',\n",
       "  'status': None,\n",
       "  'organization': {'id': 10,\n",
       "   'link': '/api/organization/10',\n",
       "   'methods': ['PATCH', 'GET']},\n",
       "  'ip': None,\n",
       "  'api_key': 'b8961591-8c18-4c0c-892d-22e7b05727b8'},\n",
       " {'id': 9,\n",
       "  'last_seen': None,\n",
       "  'name': 'node-demoC',\n",
       "  'collaboration': {'id': 2,\n",
       "   'link': '/api/collaboration/2',\n",
       "   'methods': ['DELETE', 'PATCH', 'GET']},\n",
       "  'type': 'node',\n",
       "  'status': None,\n",
       "  'organization': {'id': 11,\n",
       "   'link': '/api/organization/11',\n",
       "   'methods': ['PATCH', 'GET']},\n",
       "  'ip': None,\n",
       "  'api_key': 'd9f71d76-94df-40a7-aa0f-dbba6485f515'}]"
      ]
     },
     "execution_count": 18,
     "metadata": {},
     "output_type": "execute_result"
    }
   ],
   "source": [
    "# Create nodes\n",
    "node_organizations = organization_ids[:-1]\n",
    "\n",
    "nodes = []\n",
    "\n",
    "for idx, org in enumerate(node_organizations):\n",
    "    nodes.append(client.node.create(collab['id'], org, f'node-{names[idx]}'))\n",
    "    \n",
    "nodes"
   ]
  },
  {
   "cell_type": "code",
   "execution_count": null,
   "id": "bff903c6-d9fe-467b-9417-426a8f30f352",
   "metadata": {},
   "outputs": [],
   "source": []
  }
 ],
 "metadata": {
  "kernelspec": {
   "display_name": "Python 3 (ipykernel)",
   "language": "python",
   "name": "python3"
  },
  "language_info": {
   "codemirror_mode": {
    "name": "ipython",
    "version": 3
   },
   "file_extension": ".py",
   "mimetype": "text/x-python",
   "name": "python",
   "nbconvert_exporter": "python",
   "pygments_lexer": "ipython3",
   "version": "3.10.10"
  }
 },
 "nbformat": 4,
 "nbformat_minor": 5
}
